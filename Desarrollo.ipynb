{
 "cells": [
  {
   "cell_type": "markdown",
   "metadata": {},
   "source": [
    "# Práctica 06 - Funciones y Excepciones\n",
    "\n",
    "## **Desarrollo**\n",
    "\n",
    "### **1. Estructura de Excepciones**\n",
    "Las excepciones en Python se utilizan para evitar cortes durante la ejecución del programa. El comando `try` funciona de la siguiente manera:\n",
    "- Se ejecuta la cláusula `try`.\n",
    "- Si no se produce ninguna excepción, se omite la cláusula `except` y `try` finaliza la ejecución de la instrucción.\n",
    "- Si se produce una excepción durante la ejecución, se ejecuta el bloque `except` correspondiente.\n",
    "\n",
    "---\n",
    "\n",
    "### **2. Estructura de Funciones**\n",
    "Las funciones permiten dividir un programa en partes reutilizables y fáciles de depurar. Una función se define con la palabra clave `def`:\n",
    "\n",
    "---\n",
    "\n",
    "## **Ejemplo: Validación de DNI**\n",
    "Un programa que solicita el ingreso de un DNI correctamente.\n",
    "\n",
    "---\n",
    "\n",
    "## **Menú de Opciones con Validación**\n",
    "Un programa principal con varias funciones y un menú interactivo que valida las entradas del usuario.\n"
   ]
  }
 ],
 "metadata": {
  "language_info": {
   "name": "python"
  }
 },
 "nbformat": 4,
 "nbformat_minor": 2
}
